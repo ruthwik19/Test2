{
 "cells": [
  {
   "cell_type": "markdown",
   "metadata": {},
   "source": [
    "### Dictionaries\n",
    "-\tIt works on the concept of Set Unique Data\n",
    "-\tKeys,Values is the unique identifier for a value\n",
    "-\tEach key is separted from its values with colon(:)\n",
    "-\tEach key and value is separted by comma(,)\n",
    "-\tDictionaries enclosed with Curly braces({})\n"
   ]
  },
  {
   "cell_type": "code",
   "execution_count": 2,
   "metadata": {},
   "outputs": [
    {
     "name": "stdout",
     "output_type": "stream",
     "text": [
      "{'Name': 'Gitam', 'EmailId': 'gitam@gmail.com', 'Address': 'Hyderabad'}\n"
     ]
    }
   ],
   "source": [
    "d1 = {\"Name\":\"Gitam\",\"EmailId\":\"gitam@gmail.com\",\"Address\":\"Hyderabad\"}\n",
    "print(d1)\n"
   ]
  },
  {
   "cell_type": "code",
   "execution_count": 4,
   "metadata": {},
   "outputs": [
    {
     "data": {
      "text/plain": [
       "'Gitam'"
      ]
     },
     "execution_count": 4,
     "metadata": {},
     "output_type": "execute_result"
    }
   ],
   "source": [
    " d1[\"Name\"] # access the specific key "
   ]
  },
  {
   "cell_type": "code",
   "execution_count": 5,
   "metadata": {},
   "outputs": [],
   "source": [
    "d1[\"EmailId\"]=\"Gitam-Python@gmail.com\" #update the emailId"
   ]
  },
  {
   "cell_type": "code",
   "execution_count": 6,
   "metadata": {},
   "outputs": [
    {
     "data": {
      "text/plain": [
       "'Gitam-Python@gmail.com'"
      ]
     },
     "execution_count": 6,
     "metadata": {},
     "output_type": "execute_result"
    }
   ],
   "source": [
    "d1[\"EmailId\"]"
   ]
  },
  {
   "cell_type": "code",
   "execution_count": 8,
   "metadata": {},
   "outputs": [
    {
     "ename": "KeyError",
     "evalue": "'EmailId'",
     "output_type": "error",
     "traceback": [
      "\u001b[1;31m---------------------------------------------------------------------------\u001b[0m",
      "\u001b[1;31mKeyError\u001b[0m                                  Traceback (most recent call last)",
      "\u001b[1;32m<ipython-input-8-d1d1458d4105>\u001b[0m in \u001b[0;36m<module>\u001b[1;34m\u001b[0m\n\u001b[1;32m----> 1\u001b[1;33m \u001b[1;32mdel\u001b[0m \u001b[0md1\u001b[0m\u001b[1;33m[\u001b[0m\u001b[1;34m\"EmailId\"\u001b[0m\u001b[1;33m]\u001b[0m \u001b[1;31m# delete the specific key value\u001b[0m\u001b[1;33m\u001b[0m\u001b[1;33m\u001b[0m\u001b[0m\n\u001b[0m",
      "\u001b[1;31mKeyError\u001b[0m: 'EmailId'"
     ]
    }
   ],
   "source": [
    "del d1[\"EmailId\"] # delete the specific key value"
   ]
  },
  {
   "cell_type": "code",
   "execution_count": 9,
   "metadata": {},
   "outputs": [
    {
     "data": {
      "text/plain": [
       "{'Name': 'Gitam', 'Address': 'Hyderabad'}"
      ]
     },
     "execution_count": 9,
     "metadata": {},
     "output_type": "execute_result"
    }
   ],
   "source": [
    "d1"
   ]
  },
  {
   "cell_type": "code",
   "execution_count": 10,
   "metadata": {},
   "outputs": [
    {
     "data": {
      "text/plain": [
       "dict_keys(['Name', 'Address'])"
      ]
     },
     "execution_count": 10,
     "metadata": {},
     "output_type": "execute_result"
    }
   ],
   "source": [
    "d1.keys() #returns the list of keys "
   ]
  },
  {
   "cell_type": "code",
   "execution_count": 11,
   "metadata": {},
   "outputs": [
    {
     "data": {
      "text/plain": [
       "dict_values(['Gitam', 'Hyderabad'])"
      ]
     },
     "execution_count": 11,
     "metadata": {},
     "output_type": "execute_result"
    }
   ],
   "source": [
    "d1.values() #returns the values"
   ]
  },
  {
   "cell_type": "code",
   "execution_count": 12,
   "metadata": {},
   "outputs": [
    {
     "data": {
      "text/plain": [
       "dict_items([('Name', 'Gitam'), ('Address', 'Hyderabad')])"
      ]
     },
     "execution_count": 12,
     "metadata": {},
     "output_type": "execute_result"
    }
   ],
   "source": [
    "d1.items() #the list of tuples of keys and values "
   ]
  },
  {
   "cell_type": "markdown",
   "metadata": {},
   "source": [
    "### Tuples \n",
    "- t1 parenthesis() li square brackets[]\n",
    "- Difference between list and tuples \n",
    "- list are mutable - can be changed / modified \n",
    "    - Used to access modify, Add. Delete data \n",
    "- Tuples are immutable - cannot be changed \n",
    "    - Used to access data only "
   ]
  },
  {
   "cell_type": "code",
   "execution_count": 14,
   "metadata": {},
   "outputs": [
    {
     "data": {
      "text/plain": [
       "(1, 2, 3, 4, 5)"
      ]
     },
     "execution_count": 14,
     "metadata": {},
     "output_type": "execute_result"
    }
   ],
   "source": [
    "d1=(1,2,3,4,5)\n",
    "d1"
   ]
  },
  {
   "cell_type": "markdown",
   "metadata": {},
   "source": [
    "### Contact Application\n",
    "- Add Contact \n",
    "- Search tht Contact \n",
    "- List all contacts \n",
    "    -  name1 : phonel \n",
    "    -  name2 : phone2 \n",
    "- Modify the contact \n",
    "- Remove the contact \n",
    "- Import the contact \n"
   ]
  },
  {
   "cell_type": "code",
   "execution_count": 2,
   "metadata": {},
   "outputs": [
    {
     "name": "stdout",
     "output_type": "stream",
     "text": [
      "Contact details are added \n",
      "Contact details are added \n",
      "Contact details are alredy exits\n",
      "{'Praneeth': '987546120', 'Edith': '1234567890'}\n"
     ]
    }
   ],
   "source": [
    "# Add contact \n",
    "contacts={} # creating a dict object \n",
    "def addContact(name,phone):\n",
    "    if name not in contacts:\n",
    "        contacts[name]=phone\n",
    "        print(\"Contact details are added \")\n",
    "    else:\n",
    "        print(\"Contact details are alredy exits\")\n",
    "    return\n",
    "addContact(\"Praneeth\",\"987546120\")\n",
    "addContact(\"Edith\",\"1234567890\")\n",
    "addContact(\"Edith\",\"1234567890\")\n",
    "print(contacts)"
   ]
  },
  {
   "cell_type": "code",
   "execution_count": 3,
   "metadata": {},
   "outputs": [
    {
     "name": "stdout",
     "output_type": "stream",
     "text": [
      "Praneeth : 987546120\n",
      "Harsha doesnt exists\n"
     ]
    }
   ],
   "source": [
    "# Search for contact details\n",
    "def searchConct(name):\n",
    "    if name in contacts:\n",
    "        print(name,\":\",contacts[name])\n",
    "    else:\n",
    "        print(\"%s doesnt exists\"% name)\n",
    "    return\n",
    "searchConct(\"Praneeth\")\n",
    "searchConct(\"Harsha\")"
   ]
  },
  {
   "cell_type": "code",
   "execution_count": 4,
   "metadata": {},
   "outputs": [
    {
     "name": "stdout",
     "output_type": "stream",
     "text": [
      "2 Contacts added Successfully\n"
     ]
    }
   ],
   "source": [
    "# import some contacts\n",
    "# Merge the contacts with existng one\n",
    "def importcont(newContacts):\n",
    "    contacts.update(newContacts)\n",
    "    print(len(newContacts.keys()),\"Contacts added Successfully\")\n",
    "    return\n",
    "newContacts= {\"john wick\":9988774455,\"SH\":1122334455}\n",
    "importcont(newContacts)"
   ]
  },
  {
   "cell_type": "code",
   "execution_count": 5,
   "metadata": {},
   "outputs": [
    {
     "name": "stdout",
     "output_type": "stream",
     "text": [
      "john wick update successfully\n"
     ]
    }
   ],
   "source": [
    "# Update the contact details\n",
    "def deletecontact(name,phone):\n",
    "    if name in contacts:\n",
    "        contacts[name] = phone\n",
    "        print(name,\"update successfully\")\n",
    "    else :\n",
    "        print(name,\"not exists\")\n",
    "    return\n",
    "deletecontact(\"john wick\",9988774455)"
   ]
  },
  {
   "cell_type": "code",
   "execution_count": 7,
   "metadata": {},
   "outputs": [
    {
     "name": "stdout",
     "output_type": "stream",
     "text": [
      "1 3 9 27 81 243 "
     ]
    }
   ],
   "source": [
    "#cubes\n",
    "def cube(n):\n",
    "    i=0\n",
    "    while i<=n:\n",
    "        j=3**i\n",
    "        print(j,end=\" \")\n",
    "        i+=1\n",
    "    return\n",
    "cube(5)\n",
    "            \n",
    "        "
   ]
  },
  {
   "cell_type": "code",
   "execution_count": 11,
   "metadata": {},
   "outputs": [
    {
     "name": "stdout",
     "output_type": "stream",
     "text": [
      "1 2 4 8 16 32 "
     ]
    }
   ],
   "source": [
    "#square\n",
    "def sq(n):\n",
    "    i=0\n",
    "    while i<=n:\n",
    "        j=2**i\n",
    "        print(j,end=\" \")\n",
    "        i+=1\n",
    "    return\n",
    "sq(5)\n",
    "        "
   ]
  },
  {
   "cell_type": "code",
   "execution_count": 2,
   "metadata": {},
   "outputs": [
    {
     "name": "stdout",
     "output_type": "stream",
     "text": [
      "2 15 41 80 132 197 275 366 470 587 "
     ]
    }
   ],
   "source": [
    "def series(n):\n",
    "    i=2\n",
    "    j=0\n",
    "    while i<=n:\n",
    "        i = i+13*j\n",
    "        print(i,end=\" \")\n",
    "        j+=1\n",
    "    return\n",
    "series(500)\n",
    " "
   ]
  },
  {
   "cell_type": "code",
   "execution_count": 1,
   "metadata": {},
   "outputs": [
    {
     "name": "stdout",
     "output_type": "stream",
     "text": [
      "Enter the number1\n",
      "Enter the number4\n",
      "Enter the number5\n",
      "Enter the number1\n",
      "Enter the number2\n",
      "[1, 4, 5, 1, 2]\n"
     ]
    },
    {
     "data": {
      "text/plain": [
       "11"
      ]
     },
     "execution_count": 1,
     "metadata": {},
     "output_type": "execute_result"
    }
   ],
   "source": [
    "#sum non repeated\n",
    "def sumnonrep(n):\n",
    "    li=[]\n",
    "    i=0\n",
    "    sum=0\n",
    "    while i<n:\n",
    "        a=int(input(\"Enter the number\"))\n",
    "        li.append(a)\n",
    "        i+=1\n",
    "    print(li)\n",
    "    for i in range(len(li)):\n",
    "        a=li.count(li[i])\n",
    "        if a==1:\n",
    "            sum=sum+li[i]\n",
    "    if sum == 0:\n",
    "        return -1\n",
    "    return sum\n",
    "sumnonrep(5)"
   ]
  },
  {
   "cell_type": "code",
   "execution_count": 3,
   "metadata": {},
   "outputs": [
    {
     "name": "stdout",
     "output_type": "stream",
     "text": [
      "Enter a statement: Good Morning \n",
      "Morning\n"
     ]
    }
   ],
   "source": [
    "n = input(\"Enter a statement: \")\n",
    "m = n.split()\n",
    "for i in range(len(m)-1):\n",
    "    for j in range(len(m)-1): \n",
    "        if len(m[i]) > len(m[i+1]):\n",
    "            m[j], m[j + 1] = m[j + 1], m[j]\n",
    "print(m[-1])"
   ]
  },
  {
   "cell_type": "code",
   "execution_count": 7,
   "metadata": {},
   "outputs": [
    {
     "name": "stdout",
     "output_type": "stream",
     "text": [
      "1 +2 +6 +24 +120 +"
     ]
    }
   ],
   "source": [
    "\n",
    "# fact sum\n",
    "def factsum(n):\n",
    "    f=1\n",
    "    i=1\n",
    "    while i<=n:\n",
    "        f=f*i\n",
    "        print(f,\"+\",end=\"\")\n",
    "        i+=1\n",
    "    return\n",
    "factsum(5)"
   ]
  },
  {
   "cell_type": "code",
   "execution_count": 9,
   "metadata": {},
   "outputs": [
    {
     "name": "stdout",
     "output_type": "stream",
     "text": [
      "HbonTch"
     ]
    }
   ],
   "source": [
    "#5. remove char\n",
    "def remchar(s,c):\n",
    "    for i in range(len(s)):\n",
    "        if (ord(s[i])>=97 and ord(s[i])<=122) or (ord(s[i])>=65 and ord(s[i])<=90) or ord(s[i])==32:\n",
    "            if s[i]!=c:\n",
    "                print(s[i],end=\"\")\n",
    "    return\n",
    "s=\"HebeonTech\"\n",
    "c=\"e\"\n",
    "remchar(s,c)"
   ]
  },
  {
   "cell_type": "code",
   "execution_count": 12,
   "metadata": {},
   "outputs": [
    {
     "name": "stdout",
     "output_type": "stream",
     "text": [
      "Enter number5\n",
      "[3, 2, 1, 1, 0]\n"
     ]
    }
   ],
   "source": [
    "# 1. Fib reverse\n",
    "def fibrev(n):\n",
    "    li=[0,1]\n",
    "    i=1\n",
    "    j=0\n",
    "    while i<n-2:\n",
    "        i,j=i+j,i\n",
    "        li.append(i)\n",
    "    li.reverse()\n",
    "   \n",
    "    print(li)\n",
    "    return\n",
    "fibrev(int(input(\"Enter number\")))"
   ]
  },
  {
   "cell_type": "code",
   "execution_count": 14,
   "metadata": {},
   "outputs": [
    {
     "name": "stdout",
     "output_type": "stream",
     "text": [
      "0\n",
      "1\n",
      "2\n",
      "0\n"
     ]
    }
   ],
   "source": [
    "i=0\n",
    "while i<3:\n",
    "    print(i)\n",
    "    i+=1\n",
    "else:\n",
    "    print(0)"
   ]
  }
 ],
 "metadata": {
  "kernelspec": {
   "display_name": "Python 3",
   "language": "python",
   "name": "python3"
  },
  "language_info": {
   "codemirror_mode": {
    "name": "ipython",
    "version": 3
   },
   "file_extension": ".py",
   "mimetype": "text/x-python",
   "name": "python",
   "nbconvert_exporter": "python",
   "pygments_lexer": "ipython3",
   "version": "3.7.3"
  }
 },
 "nbformat": 4,
 "nbformat_minor": 2
}
