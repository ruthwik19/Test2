{
 "cells": [
  {
   "cell_type": "code",
   "execution_count": 1,
   "metadata": {},
   "outputs": [
    {
     "name": "stdout",
     "output_type": "stream",
     "text": [
      "Enter no 1 \n",
      " 45\n",
      "Enter no 2 \n",
      "86\n",
      "Enter no 3 \n",
      "72\n",
      "86 is the large no\n"
     ]
    }
   ],
   "source": [
    "# Find the large no from the given 3 no\n",
    "a1= int(input(\"Enter no 1 \\n \"))\n",
    "a2= int(input(\"Enter no 2 \\n\"))\n",
    "a3= int(input(\"Enter no 3 \\n\"))\n",
    "\n",
    "if a1>a2 and a1>a3:\n",
    "    print(a1,\"is the large no\")\n",
    "elif a2>a1 and a2>a3:\n",
    "    print(a2,\"is the large no\")\n",
    "else:\n",
    "    print(a3,\"is the large no\")"
   ]
  },
  {
   "cell_type": "code",
   "execution_count": 6,
   "metadata": {},
   "outputs": [
    {
     "name": "stdout",
     "output_type": "stream",
     "text": [
      "Enter the year \n",
      "2019\n",
      "Its not a leap year\n"
     ]
    }
   ],
   "source": [
    "# Check whether the given year is leap year or not\n",
    "y=int(input(\"Enter the year \\n\"))\n",
    "if y%4==0:\n",
    "    print(\"Its a leap year\")\n",
    "else:\n",
    "    print(\"Its not a leap year\")"
   ]
  },
  {
   "cell_type": "markdown",
   "metadata": {},
   "source": [
    "### Iteration\n",
    "- while\n",
    "- for\n",
    "\n",
    "**Syntax** :\n",
    "- while boolean_condtion:\n",
    "- statements\n",
    "- increment/decrement"
   ]
  },
  {
   "cell_type": "code",
   "execution_count": 22,
   "metadata": {},
   "outputs": [
    {
     "name": "stdout",
     "output_type": "stream",
     "text": [
      "Gitam\n",
      "Gitam\n",
      "Gitam\n",
      "Gitam\n",
      "Gitam\n"
     ]
    }
   ],
   "source": [
    "# need to print \"Gitam\" for 5 times\n",
    "i=1\n",
    "while i<=5:\n",
    "    print(\"Gitam\")\n",
    "    i= i+1\n",
    "        \n",
    "       "
   ]
  },
  {
   "cell_type": "code",
   "execution_count": 28,
   "metadata": {},
   "outputs": [
    {
     "name": "stdout",
     "output_type": "stream",
     "text": [
      "Enter a no \n",
      "10\n",
      "1 2 3 4 5 6 7 8 9 10 "
     ]
    }
   ],
   "source": [
    "# print N natutal no using while loop \n",
    "#input-10\n",
    "#output- 1 2 3 ... 10\n",
    "i=1\n",
    "a=int(input(\"Enter a no \\n\" ))\n",
    "while i<=a:\n",
    "    print(i,end=\" \")\n",
    "    i=i+1\n",
    "    "
   ]
  },
  {
   "cell_type": "code",
   "execution_count": 10,
   "metadata": {},
   "outputs": [
    {
     "name": "stdout",
     "output_type": "stream",
     "text": [
      "Sum 30\n"
     ]
    }
   ],
   "source": [
    "#read a no -n\n",
    "# add only even no between 1 to n\n",
    "#input --10\n",
    "#output- 30(2+3+4+6+8+10)\n",
    "i=0\n",
    "s=0\n",
    "while i<=10:\n",
    "    if i%2==0:\n",
    "        s=s+i\n",
    "        i=i+1 \n",
    "    else:\n",
    "        i=i+1\n",
    "print(\"Sum\",s)"
   ]
  },
  {
   "cell_type": "code",
   "execution_count": 10,
   "metadata": {},
   "outputs": [
    {
     "name": "stdout",
     "output_type": "stream",
     "text": [
      "Enter the no \n",
      "123\n",
      "reverse no 321\n"
     ]
    }
   ],
   "source": [
    "# print the no in reverse order\n",
    "a=int(input(\"Enter the no \\n\"))\n",
    "r=0\n",
    "while a!=0:\n",
    "    m=a%10\n",
    "    r= r*10+m\n",
    "    a=a//10\n",
    "print(\"reverse no\",r)\n",
    "        "
   ]
  },
  {
   "cell_type": "markdown",
   "metadata": {},
   "source": [
    "## Fuctional Programming \n",
    "- simple\n",
    "- easy read\n",
    "- Lengthy program divides into sub programms\n",
    "\n",
    "#### Syntax:\n",
    "- def nameoftheFunction(<Parameters>):\n",
    "-  Statement\n",
    "-  return"
   ]
  },
  {
   "cell_type": "code",
   "execution_count": 15,
   "metadata": {},
   "outputs": [
    {
     "ename": "SyntaxError",
     "evalue": "invalid syntax (<ipython-input-15-73aabe234965>, line 7)",
     "output_type": "error",
     "traceback": [
      "\u001b[1;36m  File \u001b[1;32m\"<ipython-input-15-73aabe234965>\"\u001b[1;36m, line \u001b[1;32m7\u001b[0m\n\u001b[1;33m    if\u001b[0m\n\u001b[1;37m      ^\u001b[0m\n\u001b[1;31mSyntaxError\u001b[0m\u001b[1;31m:\u001b[0m invalid syntax\n"
     ]
    }
   ],
   "source": [
    "# read a no -1234\n",
    "# output -6\n",
    "s=0\n",
    "n=int(input(\"Enter a no\"))\n",
    "def addevendigits(n):\n",
    "    while n!=0:\n",
    "        if\n",
    "    \n",
    "    \n",
    "return"
   ]
  },
  {
   "cell_type": "code",
   "execution_count": 16,
   "metadata": {},
   "outputs": [
    {
     "ename": "NameError",
     "evalue": "name 'true' is not defined",
     "output_type": "error",
     "traceback": [
      "\u001b[1;31m---------------------------------------------------------------------------\u001b[0m",
      "\u001b[1;31mNameError\u001b[0m                                 Traceback (most recent call last)",
      "\u001b[1;32m<ipython-input-16-9d08db144f7a>\u001b[0m in \u001b[0;36m<module>\u001b[1;34m\u001b[0m\n\u001b[1;32m----> 1\u001b[1;33m \u001b[0mx\u001b[0m\u001b[1;33m=\u001b[0m \u001b[0mtrue\u001b[0m\u001b[1;33m\u001b[0m\u001b[1;33m\u001b[0m\u001b[0m\n\u001b[0m\u001b[0;32m      2\u001b[0m \u001b[1;32mif\u001b[0m \u001b[0mx\u001b[0m\u001b[1;33m:\u001b[0m\u001b[1;33m\u001b[0m\u001b[1;33m\u001b[0m\u001b[0m\n\u001b[0;32m      3\u001b[0m     \u001b[0mprint\u001b[0m\u001b[1;33m(\u001b[0m\u001b[1;34m\"100\"\u001b[0m\u001b[1;33m)\u001b[0m\u001b[1;33m\u001b[0m\u001b[1;33m\u001b[0m\u001b[0m\n\u001b[0;32m      4\u001b[0m \u001b[1;32melse\u001b[0m\u001b[1;33m:\u001b[0m\u001b[1;33m\u001b[0m\u001b[1;33m\u001b[0m\u001b[0m\n\u001b[0;32m      5\u001b[0m     \u001b[0mprint\u001b[0m\u001b[1;33m(\u001b[0m\u001b[1;34m\"200\"\u001b[0m\u001b[1;33m)\u001b[0m\u001b[1;33m\u001b[0m\u001b[1;33m\u001b[0m\u001b[0m\n",
      "\u001b[1;31mNameError\u001b[0m: name 'true' is not defined"
     ]
    }
   ],
   "source": []
  }
 ],
 "metadata": {
  "kernelspec": {
   "display_name": "Python 3",
   "language": "python",
   "name": "python3"
  },
  "language_info": {
   "codemirror_mode": {
    "name": "ipython",
    "version": 3
   },
   "file_extension": ".py",
   "mimetype": "text/x-python",
   "name": "python",
   "nbconvert_exporter": "python",
   "pygments_lexer": "ipython3",
   "version": "3.7.3"
  }
 },
 "nbformat": 4,
 "nbformat_minor": 2
}
