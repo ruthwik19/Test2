{
 "cells": [
  {
   "cell_type": "markdown",
   "metadata": {},
   "source": [
    "### Day Objectives\n",
    "- Python Data Structures\n",
    " - Lists\n",
    " - Tuples\n",
    " - Dictonaries\n",
    "- Basic Program sets on Data Structures\n",
    "- Advanced Problem Set\n",
    "- Contract Applications(Dictionary Object)\n",
    "\n",
    "Data Structures\n",
    " - To store, search, and sort the data."
   ]
  },
  {
   "cell_type": "markdown",
   "metadata": {},
   "source": [
    "### Python Data Structures \n",
    "####  Lists\n",
    "- Its one of common data structures supports by python,the lists items are seperated by comma operator and enclosed in square brackets\n",
    "   - Ex:\n",
    "        - list1=[1,6,2,18,19]\n",
    "        - list2=[\"Gitam\",10,12,15.5,\"Hyderabad\"]"
   ]
  },
  {
   "cell_type": "code",
   "execution_count": 5,
   "metadata": {},
   "outputs": [
    {
     "name": "stdout",
     "output_type": "stream",
     "text": [
      "[1, 8, 1, 6, 9, 2]\n",
      "1\n",
      "8\n",
      "2\n",
      "9\n",
      "[8, 1, 6, 9, 2]\n",
      "[8, 1, 6]\n"
     ]
    }
   ],
   "source": [
    "lst =[1,8,1,6,9,2]\n",
    "print(lst) #access the entire list \n",
    "print(lst[0]) # access the 1st item list \n",
    "print(lst[1]) # access the 2nd item list \n",
    "print(lst[-1]) #access the last item list \n",
    "print(lst[-2]) # access the 2nd last item list\n",
    "print(lst[1:]) #access all the list from 2nd index\n",
    "print(lst[1:4]) #access all the list between the index 2 and 4"
   ]
  },
  {
   "cell_type": "code",
   "execution_count": 15,
   "metadata": {},
   "outputs": [
    {
     "name": "stdout",
     "output_type": "stream",
     "text": [
      "['Gitam', 'Python', 1989, 2002]\n",
      "['Gitam', 'Python', 2019, 2002]\n"
     ]
    }
   ],
   "source": [
    "# Update the list itme values using index(Direct reference)\n",
    "li=[\"Gitam\",\"Python\",1989,2002]\n",
    "print(li)\n",
    "li[2]=2019\n",
    "print(li)"
   ]
  },
  {
   "cell_type": "code",
   "execution_count": 16,
   "metadata": {},
   "outputs": [
    {
     "name": "stdout",
     "output_type": "stream",
     "text": [
      "['Gitam', 'Python', 2019, 2002]\n",
      "['Gitam', 'Python', 2002]\n"
     ]
    }
   ],
   "source": [
    "#delete the specific item in the list\n",
    "print(li)\n",
    "del li[2]\n",
    "print(li)"
   ]
  },
  {
   "cell_type": "code",
   "execution_count": 60,
   "metadata": {},
   "outputs": [
    {
     "name": "stdout",
     "output_type": "stream",
     "text": [
      "5\n",
      "[1, 9, 6, 18, 2, 1, 9, 6, 18, 2]\n",
      "5\n",
      "True\n",
      "False\n",
      "1 9 6 18 2 "
     ]
    }
   ],
   "source": [
    "# Basic list Operations \n",
    "lst1 =[1,9,6,18,2]\n",
    "print(len(lst1)) #len of the list\n",
    "print(lst1*2) #Repetation\n",
    "print(len(lst1))\n",
    "print(9 in lst1) # list item is present or not \n",
    "print(15 in lst1)\n",
    "for x in range(len(lst1)): #access the list items using iteration\n",
    "    print(lst1[x],end=\" \")"
   ]
  },
  {
   "cell_type": "code",
   "execution_count": 61,
   "metadata": {},
   "outputs": [
    {
     "name": "stdout",
     "output_type": "stream",
     "text": [
      "1\n",
      "18\n",
      "36\n",
      "7\n",
      "13.5\n"
     ]
    }
   ],
   "source": [
    "# Functions of the list\n",
    "lst1\n",
    "print(min(lst1)) \n",
    "print(max(lst1))\n",
    "print(sum(lst1))\n",
    "print(sum(lst1)//len(lst1)) # Average os list elements\n",
    "print(sum(lst1[1::2])/len(lst1[1::2])) #Average of all alternate elements  "
   ]
  },
  {
   "cell_type": "code",
   "execution_count": 62,
   "metadata": {},
   "outputs": [
    {
     "name": "stdout",
     "output_type": "stream",
     "text": [
      "[1, 9, 6, 18, 2]\n",
      "[1, 9, 6, 18, 2, 24]\n",
      "[1, 9, 56, 6, 18, 2, 24]\n",
      "1\n",
      "2\n",
      "[1, 2, 6, 9, 18, 24, 56]\n",
      "[1, 2, 6, 9, 18, 24]\n",
      "[1, 6, 9, 18, 24, 123, 23, 45]\n",
      "[45, 23, 123, 24, 18, 9, 6, 1]\n",
      "[45, 23, 24, 18, 9, 6, 1]\n"
     ]
    }
   ],
   "source": [
    "print(lst1)\n",
    "lst1.append(24) # Adding a new element at the end of the list\n",
    "print(lst1)\n",
    "lst1.insert(2,56) # adding an element at particular index\n",
    "print(lst1)\n",
    "print(lst1.count(18)) # return the value how many times the object repeated\n",
    "print(lst1.index(56))\n",
    "lst1.sort()# its sort the list in ascending order \n",
    "print(lst1)\n",
    "lst1.pop() #remove the last element from the list\n",
    "print(lst1)\n",
    "lst1.pop(1) #removes an element from a particular index\n",
    "lst2=[123,23,45]\n",
    "lst1.extend(lst2) #merge the list2 into list1\n",
    "print(lst1)\n",
    "lst1.reverse() # reverse the list\n",
    "print(lst1)\n",
    "lst1.remove(123) #remove the element from the list\n",
    "print(lst1)"
   ]
  },
  {
   "cell_type": "code",
   "execution_count": 64,
   "metadata": {},
   "outputs": [
    {
     "name": "stdout",
     "output_type": "stream",
     "text": [
      "[3, 2]\n"
     ]
    }
   ],
   "source": [
    "li=[1,9,8,2,6,3]\n",
    "print(li[-1:2:-2])"
   ]
  },
  {
   "cell_type": "code",
   "execution_count": 80,
   "metadata": {},
   "outputs": [
    {
     "data": {
      "text/plain": [
       "6"
      ]
     },
     "execution_count": 80,
     "metadata": {},
     "output_type": "execute_result"
    }
   ],
   "source": [
    "# fun to find the 2nd lasrgest no\n",
    "#input : [1,19,6,2,8,18,3]\n",
    "#output: 18\n",
    "def sL(li):\n",
    "    li.sort()\n",
    "    return li[-2]\n",
    "def genericLarge(li,n):\n",
    "    li.sort()\n",
    "    return li[-n]\n",
    "li=[1,19,6,2,8,18,3]\n",
    "genericLarge(li,4)"
   ]
  },
  {
   "cell_type": "code",
   "execution_count": 85,
   "metadata": {},
   "outputs": [
    {
     "data": {
      "text/plain": [
       "6"
      ]
     },
     "execution_count": 85,
     "metadata": {},
     "output_type": "execute_result"
    }
   ],
   "source": [
    "# fun to find the 2nd lasrgest no\n",
    "#input : [1,19,6,2,8,18,3]\n",
    "#output: 18\n",
    "def sL(li):\n",
    "    li.sort()\n",
    "    return li[-2]\n",
    "def genericLeast(li,n):\n",
    "    li.sort()\n",
    "    return li[n-1]\n",
    "li=[1,19,6,2,8,18,3]\n",
    "genericLarge(li,4)"
   ]
  },
  {
   "cell_type": "code",
   "execution_count": 87,
   "metadata": {},
   "outputs": [
    {
     "name": "stdout",
     "output_type": "stream",
     "text": [
      "1 4 8 "
     ]
    }
   ],
   "source": [
    "def linearsearch2(li,tarItem):\n",
    "    for x in range(len(li)):\n",
    "        if li[x] == tarItem:\n",
    "            print(x,end=\" \")\n",
    "    return\n",
    "li=[1,5,9,6,5,15,1,2,5]\n",
    "linearsearch2(li,5)"
   ]
  },
  {
   "cell_type": "code",
   "execution_count": 89,
   "metadata": {},
   "outputs": [
    {
     "name": "stdout",
     "output_type": "stream",
     "text": [
      "!! !!!!! !!!!!!!!! "
     ]
    }
   ],
   "source": [
    "def linearsearch3(li,tarItem):\n",
    "    for x in range(len(li)):\n",
    "        if li[x] == tarItem:\n",
    "            j=0\n",
    "            while j!=x+1:\n",
    "                print(\"!\",end=\"\")\n",
    "                j=j+1\n",
    "            print(end=\" \")\n",
    "    return\n",
    "li=[1,5,9,6,5,15,1,2,5]\n",
    "linearsearch3(li,5)"
   ]
  },
  {
   "cell_type": "code",
   "execution_count": 93,
   "metadata": {},
   "outputs": [
    {
     "name": "stdout",
     "output_type": "stream",
     "text": [
      "1 3 8 15 5 "
     ]
    }
   ],
   "source": [
    "def linearsearch5(li):\n",
    "    for x in range(len(li)):\n",
    "        if x == 0 or x == len(li)-1:\n",
    "            print(li[x],end=\" \")\n",
    "        else:\n",
    "            print(li[x-1]*li[x+1],end=\" \")\n",
    "    return\n",
    "li=[1,2,3,4,5]\n",
    "linearsearch5(li)"
   ]
  },
  {
   "cell_type": "code",
   "execution_count": 111,
   "metadata": {},
   "outputs": [
    {
     "name": "stdout",
     "output_type": "stream",
     "text": [
      "1 9 19 22 "
     ]
    }
   ],
   "source": [
    "# Function\n",
    "# Input: List \n",
    "# Output : Formatted output\n",
    "# Test cases:\n",
    "# [1,6,9,4,16,19,22]-- 1 9 19 22\n",
    "# Print 1st and last no and no which has even no on both sides\n",
    "li= [1,6,9,4,16,19,22]\n",
    "\n",
    "for i in range(len(li)):\n",
    "    if i==0 or i==len(li)-1:\n",
    "        print(li[i],end=\" \")\n",
    "    elif li[i-1]%2==0 and li[i+1]%2==0:\n",
    "        print(li[i],end=\" \")\n",
    "    "
   ]
  },
  {
   "cell_type": "markdown",
   "metadata": {},
   "source": [
    "### Number to list \n",
    "- Input as number\n",
    "- Expected output will be list \n",
    "        "
   ]
  },
  {
   "cell_type": "code",
   "execution_count": 120,
   "metadata": {},
   "outputs": [
    {
     "data": {
      "text/plain": [
       "[1, 4, 5, 6, 9]"
      ]
     },
     "execution_count": 120,
     "metadata": {},
     "output_type": "execute_result"
    }
   ],
   "source": [
    "# Function for conversion -Number to list \n",
    "# Input -- Number\n",
    "# Output -- list\n",
    "# Test cases:\n",
    "# 14569 -[1,4,5,6,9]\n",
    "# 1990 -- [1,9,9,0]\n",
    "\n",
    "def nolistcon(n):\n",
    "    li=[]\n",
    "    while n!=0:\n",
    "        r=n%10\n",
    "        li.append(r)\n",
    "        n=n//10\n",
    "    li.reverse()\n",
    "    return li\n",
    "nolistcon(14569)"
   ]
  },
  {
   "cell_type": "code",
   "execution_count": 126,
   "metadata": {},
   "outputs": [
    {
     "data": {
      "text/plain": [
       "2"
      ]
     },
     "execution_count": 126,
     "metadata": {},
     "output_type": "execute_result"
    }
   ],
   "source": [
    "def countcharoccurance(s,c):\n",
    "    count=0\n",
    "    for ch in s:\n",
    "        if ch==c:\n",
    "            count=count+1\n",
    "    return count\n",
    "countcharoccurance(\"Python Programming\",'P')"
   ]
  },
  {
   "cell_type": "code",
   "execution_count": 128,
   "metadata": {},
   "outputs": [
    {
     "data": {
      "text/plain": [
       "[1, 2, 3, 4, 5, 6]"
      ]
     },
     "execution_count": 128,
     "metadata": {},
     "output_type": "execute_result"
    }
   ],
   "source": [
    "def stringtolistconversion(s):\n",
    "    li=s.split()\n",
    "    numberlist=[]\n",
    "    for i in li:\n",
    "        numberlist.append(int(i))\n",
    "    return numberlist\n",
    "s=\"1 2 3 4 5 6\"\n",
    "stringtolistconversion(s)"
   ]
  },
  {
   "cell_type": "markdown",
   "metadata": {},
   "source": [
    "### Soritng Algorithms:\n",
    "- All the sorting algorithms makes the list into asc ord\n",
    "- Bubble sort\n",
    "- Selection sort \n",
    "- Insertion sort"
   ]
  },
  {
   "cell_type": "markdown",
   "metadata": {},
   "source": [
    "### Bubble sort\n"
   ]
  },
  {
   "cell_type": "code",
   "execution_count": 131,
   "metadata": {},
   "outputs": [
    {
     "data": {
      "text/plain": [
       "4"
      ]
     },
     "execution_count": 131,
     "metadata": {},
     "output_type": "execute_result"
    }
   ],
   "source": [
    "# Function  to represent  tht BubbLe  sort\n",
    "def bubbleSort(li):\n",
    "    for i in range(len(li)-1):\n",
    "        for j  in  range(len(li)-1):\n",
    "            if li[j] > li[j+1]:\n",
    "                li[j],li[j+1]=li[j+1],li[j]\n",
    "    return  i\n",
    "li = [19,1,25,6,18,3]\n",
    "bubbleSort(li)"
   ]
  }
 ],
 "metadata": {
  "kernelspec": {
   "display_name": "Python 3",
   "language": "python",
   "name": "python3"
  },
  "language_info": {
   "codemirror_mode": {
    "name": "ipython",
    "version": 3
   },
   "file_extension": ".py",
   "mimetype": "text/x-python",
   "name": "python",
   "nbconvert_exporter": "python",
   "pygments_lexer": "ipython3",
   "version": "3.7.3"
  }
 },
 "nbformat": 4,
 "nbformat_minor": 2
}
