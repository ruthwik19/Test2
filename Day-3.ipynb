{
 "cells": [
  {
   "cell_type": "code",
   "execution_count": 5,
   "metadata": {},
   "outputs": [
    {
     "data": {
      "text/plain": [
       "True"
      ]
     },
     "execution_count": 5,
     "metadata": {},
     "output_type": "execute_result"
    }
   ],
   "source": [
    "# Given No is Prime or not \n",
    "def isPrime(n):\n",
    "    flag = True\n",
    "    for i in range(2,n//2+1): # range(2,n-1)\n",
    "        if n%i==0:\n",
    "            flag= False\n",
    "            return flag\n",
    "    return flag\n",
    "isPrime(11)"
   ]
  },
  {
   "cell_type": "code",
   "execution_count": 3,
   "metadata": {},
   "outputs": [
    {
     "data": {
      "text/plain": [
       "4"
      ]
     },
     "execution_count": 3,
     "metadata": {},
     "output_type": "execute_result"
    }
   ],
   "source": [
    "# Function to find no from 1-n\n",
    "def primecount(n):\n",
    "    cnt=0\n",
    "    for a in range(2,n+1):\n",
    "        k=0\n",
    "        for i in range(2,a//2+1):\n",
    "            if a%i==0:\n",
    "                k=k+1\n",
    "        if(k<=0):\n",
    "            cnt=cnt+1\n",
    "    return cnt\n",
    "primecount(10)\n",
    "\n",
    "    "
   ]
  },
  {
   "cell_type": "code",
   "execution_count": 24,
   "metadata": {},
   "outputs": [
    {
     "name": "stdout",
     "output_type": "stream",
     "text": [
      "Enter a no \n",
      "145\n",
      "Yes\n"
     ]
    }
   ],
   "source": [
    "#factorail sum\n",
    "a=int(input(\"Enter a no \\n\"))\n",
    "r=a\n",
    "sum=0\n",
    "while a!=0:\n",
    "    n=a%10\n",
    "    a=a//10\n",
    "    fact=1\n",
    "    for i in range(1,n+1):\n",
    "        fact=i*fact\n",
    "    sum=fact+sum\n",
    "if sum==r:\n",
    "    print(\"Yes\")\n",
    "else:\n",
    "    print(\"No\")"
   ]
  },
  {
   "cell_type": "code",
   "execution_count": 44,
   "metadata": {},
   "outputs": [
    {
     "data": {
      "text/plain": [
       "9"
      ]
     },
     "execution_count": 44,
     "metadata": {},
     "output_type": "execute_result"
    }
   ],
   "source": [
    "def ispalindrome(n):\n",
    "    \n",
    "    rev =0\n",
    "    buffer = n\n",
    "    while n != 0:\n",
    "        r = n % 10\n",
    "        rev = rev * 10 + r\n",
    "        n = n // 10\n",
    "    if rev == buffer:\n",
    "        return True\n",
    "    else:\n",
    "        return False\n",
    "    return\n",
    "def countpalindrome(lb,ub):\n",
    "    cnt = 0\n",
    "    while lb != ub:\n",
    "       #implement\n",
    "       if ispalindrome(lb) == True:\n",
    "            cnt = cnt + 1\n",
    "            lb = lb +1\n",
    "    return cnt\n",
    "countpalindrome(1,10) "
   ]
  },
  {
   "cell_type": "code",
   "execution_count": 49,
   "metadata": {},
   "outputs": [
    {
     "name": "stdout",
     "output_type": "stream",
     "text": [
      "1 \n",
      "1 \n"
     ]
    }
   ],
   "source": [
    "#Fumction to generate the perfect no in given range\n",
    "# Perfect no= sum of all its factors is same \n",
    "#Ex: 6-- 1 2 3(1+2+3)\n",
    "def factorslist(n):\n",
    "    sum=0\n",
    "    for i in range(1,n+1):\n",
    "        if n%i==0:\n",
    "            sum=sum+i\n",
    "    return sum\n",
    "def isperfect(n):\n",
    "    if  factorslist(n)==n:\n",
    "        return True\n",
    "    return False\n",
    "def generatePerfect(lb,ub):\n",
    "    for x in range(lb,ub+1):\n",
    "        if isperfect(x):\n",
    "            print(x,end= \" \")\n",
    "    print()\n",
    "    return\n",
    "\n",
    "generatePerfect(1,10)\n",
    "generatePerfect(1,10000)\n"
   ]
  },
  {
   "cell_type": "code",
   "execution_count": 50,
   "metadata": {},
   "outputs": [
    {
     "name": "stdout",
     "output_type": "stream",
     "text": [
      "1 5 9\n"
     ]
    }
   ],
   "source": [
    "a,b,c = range(1,12,4) \n",
    "print(a,b,c)"
   ]
  },
  {
   "cell_type": "code",
   "execution_count": 74,
   "metadata": {},
   "outputs": [
    {
     "name": "stdout",
     "output_type": "stream",
     "text": [
      "P\n",
      "y\n",
      "t\n",
      "h\n",
      "o\n",
      "n\n",
      "n\n",
      "o\n",
      "yt\n",
      "Py\n",
      "hon\n",
      "hn\n"
     ]
    }
   ],
   "source": [
    "s1='Python'\n",
    "print(s1[0]) \n",
    "print(s1[1])\n",
    "print(s1[2])\n",
    "print(s1[3])\n",
    "print(s1[4]) \n",
    "print(s1[len(s1)-1]) #access the last char \n",
    "print(s1[-1]) # another way to access the last char\n",
    "print(s1[-2]) # another way to access the 2nd last char\n",
    "print(s1[1:3]) # access the first chars\n",
    "print(s1[:2]) # access the first chars\n",
    "print(s1[-3:]) # last 3 chars\n",
    "print(s1[3::2])\n",
    "\n"
   ]
  },
  {
   "cell_type": "code",
   "execution_count": 56,
   "metadata": {},
   "outputs": [
    {
     "name": "stdout",
     "output_type": "stream",
     "text": [
      "Enter string \n",
      "a b c\n",
      "c b a\n"
     ]
    }
   ],
   "source": [
    "s=str(input(\"Enter string \\n\"))\n",
    "print(s[-1::-1])"
   ]
  },
  {
   "cell_type": "code",
   "execution_count": 61,
   "metadata": {},
   "outputs": [
    {
     "name": "stdout",
     "output_type": "stream",
     "text": [
      "P T "
     ]
    }
   ],
   "source": [
    "#ASCII:-\n",
    "# A-Z : 65-90\n",
    "#a-z  : 97-122\n",
    "#0-9  : 48-57\n",
    "#space: 32\n",
    "def printUpper(x):\n",
    "    for i in range(len(x)):\n",
    "        if ord(x[i])>=65 and ord(x[i])<=90:\n",
    "            print(x[i],end=\" \")\n",
    "    return\n",
    "printUpper(\"PyThon\")"
   ]
  },
  {
   "cell_type": "code",
   "execution_count": 64,
   "metadata": {},
   "outputs": [
    {
     "name": "stdout",
     "output_type": "stream",
     "text": [
      "Same count\n",
      "Programming\n"
     ]
    }
   ],
   "source": [
    "# function to print \"same count \" if the count of\n",
    "# upper and lower case is same \n",
    "# print \"Programming\" if not same\n",
    "# Example: PyThOn -- 3 P T O (Upper case) -- Same count \n",
    "#                 -- 3 y h n (Lower case)\n",
    "#PytHon -- P H (2)\n",
    "#       -- y t o n (4) - Programming \n",
    "\n",
    "def findCount(str):\n",
    "    cntUpper=0\n",
    "    cntLower=0\n",
    "    for x in range(len(str)):\n",
    "        if ord(str[x])>=65 and ord(str[x])<=90:\n",
    "            cntUpper=cntUpper +1 \n",
    "        elif ord(str[x])>=97 and ord(str[x])<=122:\n",
    "            cntLower =cntLower+1\n",
    "    if cntUpper == cntLower:\n",
    "        return \"Same count\"\n",
    "    else:\n",
    "        return \"Programming\"\n",
    "    return\n",
    "print(findCount(\"PyThOn\"))# same count\n",
    "print(findCount(\"PYTHon\")) #Programming "
   ]
  },
  {
   "cell_type": "code",
   "execution_count": 79,
   "metadata": {},
   "outputs": [
    {
     "name": "stdout",
     "output_type": "stream",
     "text": [
      "1 8 8 9 "
     ]
    }
   ],
   "source": [
    "#extract digits from given string \n",
    "#example \n",
    "#input : application89\n",
    "#output : 1 8 8 9\n",
    "def extractdigits(str):\n",
    "    for x in range(len(str)):\n",
    "        if ord(str[x]) >= 48 and ord(str[x]) <= 57:\n",
    "            print(str[x],end=\" \")\n",
    "    return\n",
    "extractdigits(\"appli1cat8ion89\")"
   ]
  },
  {
   "cell_type": "code",
   "execution_count": 15,
   "metadata": {},
   "outputs": [
    {
     "data": {
      "text/plain": [
       "26"
      ]
     },
     "execution_count": 15,
     "metadata": {},
     "output_type": "execute_result"
    }
   ],
   "source": [
    "#function to return the sum of digits in a given string\n",
    "#input : appli1cat8ion89\n",
    "#output : 26(1+8+8+9)\n",
    "\n",
    "def sumofdigits(str):\n",
    "    sum=0\n",
    "    for x in range(len(str)):\n",
    "        if ord(str[x]) >= 48 and ord(str[x]) <= 57:\n",
    "            sum=sum+(ord(str[x])-48)\n",
    "    return sum\n",
    "sumofdigits(\"appli1cat8ion89\")\n",
    "\n"
   ]
  },
  {
   "cell_type": "code",
   "execution_count": 23,
   "metadata": {},
   "outputs": [
    {
     "name": "stdout",
     "output_type": "stream",
     "text": [
      "16\n"
     ]
    }
   ],
   "source": [
    "#function to return the sum of digits in a given string\n",
    "#input : appli1cat8ion89\n",
    "#output : 16(8+8)\n",
    "def sumofdigits(str):\n",
    "    sum=0\n",
    "    for x in range(len(str)):\n",
    "        if ord(str[x]) >= 48 and ord(str[x]) <= 57:\n",
    "            if(ord(str[x])-48)%2==0:\n",
    "                sum=sum+(ord(str[x])-48)\n",
    "    return sum\n",
    "print(sumofdigits(\"appli1cat8ion89\"))\n",
    "\n"
   ]
  },
  {
   "cell_type": "code",
   "execution_count": 39,
   "metadata": {},
   "outputs": [
    {
     "name": "stdout",
     "output_type": "stream",
     "text": [
      "M A D E "
     ]
    }
   ],
   "source": [
    "# function to print the spicific word in upper case\n",
    "# example :\n",
    "# input : python made easy\n",
    "# output : MADE\n",
    "# input : learn python programming\n",
    "#output : PYTHON\n",
    "def worduppercase(s):\n",
    "    spacecnt = 0\n",
    "    for x in range(len(s)):\n",
    "        if ord(s[x]) == 32:\n",
    "            spacecnt += 1 # spacecnt = spacecnt + 1\n",
    "        if spacecnt == 1:\n",
    "            if ord(s[x]) >= 65 and ord(s[x]) <= 90:\n",
    "                print(s[x],end=\" \")\n",
    "            elif ord(s[x])>= 97 and ord(s[x])<= 122:\n",
    "                print(chr(ord(s[x])-32),end=\" \")\n",
    "        if spacecnt == 2:\n",
    "            break\n",
    "    return\n",
    "worduppercase('Python Made Easy') # MADE"
   ]
  },
  {
   "cell_type": "code",
   "execution_count": null,
   "metadata": {},
   "outputs": [],
   "source": []
  }
 ],
 "metadata": {
  "kernelspec": {
   "display_name": "Python 3",
   "language": "python",
   "name": "python3"
  },
  "language_info": {
   "codemirror_mode": {
    "name": "ipython",
    "version": 3
   },
   "file_extension": ".py",
   "mimetype": "text/x-python",
   "name": "python",
   "nbconvert_exporter": "python",
   "pygments_lexer": "ipython3",
   "version": "3.7.3"
  }
 },
 "nbformat": 4,
 "nbformat_minor": 2
}
